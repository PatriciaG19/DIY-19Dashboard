{
 "cells": [
  {
   "cell_type": "markdown",
   "metadata": {},
   "source": [
    " ## Covid-19 Dashboard"
   ]
  },
  {
   "cell_type": "markdown",
   "metadata": {},
   "source": [
    "The following dashboard aims to successfully implement the following functionalities:\n",
    "\n",
    "\n",
    "1. Acquire pandemic data from the Public Health England Application Programming Interface (API) through the Software Development Kit\n",
    "2.  Visualise and wrangle data in the form of one graph\n",
    "3.  Enable a user to trigger the API access by clicking on a button, and providing at least a functional interactive control (in the form of a widget) for the graph\n"
   ]
  },
  {
   "cell_type": "code",
   "execution_count": 20,
   "metadata": {},
   "outputs": [],
   "source": [
    "import ipywidgets as wdg\n",
    "import pandas as pd\n",
    "import numpy as np\n",
    "import matplotlib.pyplot as plt\n",
    "import json\n",
    "from uk_covid19 import Cov19API"
   ]
  },
  {
   "cell_type": "code",
   "execution_count": 21,
   "metadata": {},
   "outputs": [],
   "source": [
    "%matplotlib inline\n",
    "plt.rcParams['figure.dpi'] = 100"
   ]
  },
  {
   "cell_type": "code",
   "execution_count": 22,
   "metadata": {},
   "outputs": [],
   "source": [
    "data = {}\n",
    "with open(\"agedistribution.json\", \"rt\") as INFILE:\n",
    "    data=json.load(INFILE)"
   ]
  },
  {
   "cell_type": "markdown",
   "metadata": {},
   "source": [
    "## Aquiring Data and Visualisation\n",
    "\n",
    "The dashboard represents the number of COVID-19 cases for males and females based on their age range. \n",
    "The first step was to access data through the Public Health England through a web-based Application Programming Interface (API). This often involves the excange of information in JSON format. \n",
    "\n",
    "Public Health Englanda offers a Python Software Devekopment Kit (SDK). This is a Python wrapper that facilitates access to the API by building requests.\n",
    "\n",
    "Next, data was wrangled in order to get to a DataFrame with the age bins as an index, and values for males and females as its columns."
   ]
  },
  {
   "cell_type": "code",
   "execution_count": 23,
   "metadata": {},
   "outputs": [],
   "source": [
    "def wrangle_data(rawdata):\n",
    "    \n",
    "    datadic=rawdata['data'][0]\n",
    "\n",
    "    males=datadic['males']\n",
    "    females=datadic['females']\n",
    "\n",
    "    ageranges=[x['age'] for x in males] \n",
    "\n",
    "    def min_age(agerange):\n",
    "        agerange=agerange.replace('+','') \n",
    "        start=agerange.split('_')[0]\n",
    "        return int(start)\n",
    "\n",
    "    ageranges.sort(key=min_age)\n",
    "    age_df=pd.DataFrame(index=ageranges, columns=['males','females', 'total'])\n",
    "\n",
    "    for entry in males: \n",
    "        ageband=entry['age'] \n",
    "        age_df.loc[ageband, 'males']=entry['value']\n",
    "\n",
    "    for entry in females:\n",
    "        ageband=entry['age']\n",
    "        age_df.loc[ageband, 'females']=entry['value']\n",
    "\n",
    "    age_df['total']=age_df['males']+age_df['females']\n",
    "\n",
    "    return age_df\n",
    "\n",
    "age_df=wrangle_data(data)"
   ]
  },
  {
   "cell_type": "code",
   "execution_count": 24,
   "metadata": {},
   "outputs": [],
   "source": [
    "  \n",
    "def access_api():\n",
    "    filters = [\n",
    "    'areaType=nation',\n",
    "    'areaName=England'\n",
    "    ]\n",
    "\n",
    "    structure = {\n",
    "    \"males\": \"maleCases\",\n",
    "    \"females\": \"femaleCases\"\n",
    "    }\n",
    "    api = Cov19API(filters=filters, structure=structure)\n",
    "    agedistribution=api.get_json()\n",
    "    return agedistribution\n",
    "\n",
    "\n",
    "\n",
    "\n",
    "def api_button_callback(button):\n",
    "    apidata=access_api()\n",
    "    global age_df\n",
    "    age_df=wrangle_data(apidata)\n",
    "    refresh_graph()\n",
    "    apibutton.icon=\"check\"\n",
    "\n",
    "    \n",
    "apibutton=wdg.Button(\n",
    "    description='Refresh data', \n",
    "    disabled=False,\n",
    "    button_style='success', \n",
    "    tooltip=\"'Click to download current Public Health England data'\",\n",
    "    icon='refresh'\n",
    ")\n",
    "    "
   ]
  },
  {
   "cell_type": "markdown",
   "metadata": {},
   "source": [
    "## Age Distribution Graph"
   ]
  },
  {
   "cell_type": "markdown",
   "metadata": {},
   "source": [
    "\n",
    "Finally, interactive controls were added to the graph using the ipywidgets library, a Graphical User Interface (GUI) library that runs in a notebook.\n",
    "\n",
    "This interactive graph represents the number of COVID-19 cases in England for males and females by dividing the data based on their age. By adding an interactive control, allows to select any combination of the males, females or total columns.\n",
    "\n",
    "The refresh button forces a redraw of the graph which is useful when the data have been updated."
   ]
  },
  {
   "cell_type": "code",
   "execution_count": 25,
   "metadata": {},
   "outputs": [
    {
     "data": {
      "application/vnd.jupyter.widget-view+json": {
       "model_id": "e49ed510a374467783a74e2e177ab341",
       "version_major": 2,
       "version_minor": 0
      },
      "text/plain": [
       "Button(button_style='success', description='Refresh data', icon='refresh', style=ButtonStyle(), tooltip=\"'Clic…"
      ]
     },
     "metadata": {},
     "output_type": "display_data"
    },
    {
     "data": {
      "application/vnd.jupyter.widget-view+json": {
       "model_id": "e1bc773f90ad4b4483f0323d7f298185",
       "version_major": 2,
       "version_minor": 0
      },
      "text/plain": [
       "SelectMultiple(description='Sex', index=(0,), options=('males', 'females', 'total'), rows=3, value=('males',))"
      ]
     },
     "metadata": {},
     "output_type": "display_data"
    },
    {
     "data": {
      "application/vnd.jupyter.widget-view+json": {
       "model_id": "22290ed14e9946589aa72472ce237a9d",
       "version_major": 2,
       "version_minor": 0
      },
      "text/plain": [
       "Output()"
      ]
     },
     "metadata": {},
     "output_type": "display_data"
    }
   ],
   "source": [
    "agecols=wdg.SelectMultiple(\n",
    "    options=['males', 'females', 'total'], \n",
    "    value=['males'], \n",
    "    rows=3, \n",
    "    description='Sex',\n",
    "    disabled=False\n",
    ")\n",
    "\n",
    "def refresh_graph():\n",
    "    current=agecols.value[0]\n",
    "    if current==agecols.options[0]:\n",
    "        other=agecols.options[1]\n",
    "    else:\n",
    "        other=agecols.options[0]\n",
    "    agecols.value=(other,) \n",
    "    agecols.value=(current,) \n",
    "\n",
    "\n",
    "def age_graph(graphcolumns):\n",
    "    ncols=len(graphcolumns)\n",
    "    if ncols>0:\n",
    "        age_df.plot(kind='bar', y=list(graphcolumns)) \n",
    "        plt.title(\"Distribution of COVID-19 cases for males and females based on age range\")\n",
    "        plt.xlabel(\"Age Range\")\n",
    "        plt.ylabel(\"Number of COVID-19 cases\")\n",
    "    else:\n",
    "        print(\"Click to select data for graph\")\n",
    "        print(\"(CTRL-Click to select more than one category)\")\n",
    "    \n",
    "    \n",
    "output=wdg.interactive_output(age_graph, {'graphcolumns': agecols})\n",
    "\n",
    "apibutton.on_click(api_button_callback) \n",
    "display(apibutton)\n",
    "\n",
    "display(agecols, output)"
   ]
  },
  {
   "cell_type": "markdown",
   "metadata": {},
   "source": [
    "**Author and Copyright Notice** (C) Patricia Dominik, 27/11/2020 (bt17329@qmul.ac.uk). All rights reserved. *Based on UK Government [data](https://coronavirus.data.gov.uk/) published by [Public Health England](https://www.gov.uk/government/organisations/public-health-england).*"
   ]
  }
 ],
 "metadata": {
  "kernelspec": {
   "display_name": "Python 3",
   "language": "python",
   "name": "python3"
  },
  "language_info": {
   "codemirror_mode": {
    "name": "ipython",
    "version": 3
   },
   "file_extension": ".py",
   "mimetype": "text/x-python",
   "name": "python",
   "nbconvert_exporter": "python",
   "pygments_lexer": "ipython3",
   "version": "3.8.5"
  }
 },
 "nbformat": 4,
 "nbformat_minor": 4
}
